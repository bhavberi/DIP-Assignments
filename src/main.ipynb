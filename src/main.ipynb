{
 "cells": [
  {
   "cell_type": "markdown",
   "metadata": {},
   "source": [
    "# **DIP Assignment - 1**\n",
    "## Monsoon 2023-24\n",
    "\n",
    "> **Name**: *Bhav Beri*\n",
    "> \n",
    "> **Roll Number**: *2021111013*"
   ]
  },
  {
   "cell_type": "markdown",
   "metadata": {},
   "source": [
    "## Import Statements"
   ]
  },
  {
   "cell_type": "code",
   "execution_count": null,
   "metadata": {},
   "outputs": [],
   "source": [
    "import matplotlib.pyplot as plt\n",
    "import numpy as np\n",
    "import time\n",
    "import os\n",
    "\n",
    "import cv2\n",
    "from skimage.io import imread, imsave\n",
    "from PIL import Image"
   ]
  },
  {
   "cell_type": "markdown",
   "metadata": {},
   "source": [
    "## Global config variables"
   ]
  },
  {
   "cell_type": "code",
   "execution_count": null,
   "metadata": {},
   "outputs": [],
   "source": [
    "img_base_path = \"../images/dip{}.jpg\"\n",
    "saved_img_path = \"../images/{}/dip{}_grayscale{}.jpg\""
   ]
  },
  {
   "cell_type": "markdown",
   "metadata": {},
   "source": [
    "## Util Functions"
   ]
  },
  {
   "cell_type": "code",
   "execution_count": null,
   "metadata": {},
   "outputs": [],
   "source": [
    "def read_image_cv2(path):\n",
    "    return cv2.cvtColor(cv2.imread(path), cv2.COLOR_BGR2RGB)\n",
    "\n",
    "def read_image_skimage(path):\n",
    "    return imread(path)\n",
    "\n",
    "def read_image_pil(path):\n",
    "    return np.array(Image.open(path))"
   ]
  },
  {
   "cell_type": "code",
   "execution_count": null,
   "metadata": {},
   "outputs": [],
   "source": [
    "def write_image_cv2(image, n, i):\n",
    "    if not os.path.exists(\"../images/cv2\"):\n",
    "        os.mkdir(\"../images/cv2\")\n",
    "    cv2.imwrite(saved_img_path.format(\"cv2\", i, n), image)\n",
    "\n",
    "def write_image_skimage(image, n, i):\n",
    "    if not os.path.exists(\"../images/skimage\"):\n",
    "        os.mkdir(\"../images/skimage\")\n",
    "    imsave(saved_img_path.format(\"skimage\", i, n), image.astype(np.uint8), check_contrast=False)\n",
    "\n",
    "def write_image_pil(image, n, i):\n",
    "    if not os.path.exists(\"../images/PIL\"):\n",
    "        os.mkdir(\"../images/PIL\")\n",
    "    img = Image.fromarray(image.astype(np.uint8))\n",
    "    img.save(saved_img_path.format(\"PIL\", i, n))"
   ]
  },
  {
   "cell_type": "code",
   "execution_count": null,
   "metadata": {},
   "outputs": [],
   "source": [
    "def read_images(func):\n",
    "    images = list()\n",
    "    for i in range(1,5):\n",
    "        images.append(func(img_base_path.format(i)))\n",
    "    return images\n",
    "\n",
    "def write_images(images, func, n=1):\n",
    "    for i in range(4):\n",
    "        func(images[i], n, i+1)"
   ]
  },
  {
   "cell_type": "code",
   "execution_count": null,
   "metadata": {},
   "outputs": [],
   "source": [
    "def show_images_2x2(images):\n",
    "    fig,axs = plt.subplots(2,2)\n",
    "    for i in range(4):\n",
    "        axs[(i)//2,(i)%2].imshow(images[i])\n",
    "    fig.set_size_inches(6.5, 6.5)\n",
    "    plt.show()\n",
    "\n",
    "def show_images_4x2(images1, images2, cmap='gray'):\n",
    "    fig,axs = plt.subplots(4,2)\n",
    "    for i in range(4):\n",
    "        axs[i,0].imshow(images1[i], cmap=cmap)\n",
    "        axs[i,1].imshow(images2[i], cmap=cmap)\n",
    "    fig.set_size_inches(10.5, 10.5)\n",
    "    plt.show()"
   ]
  },
  {
   "cell_type": "code",
   "execution_count": null,
   "metadata": {},
   "outputs": [],
   "source": [
    "def direct_grayscale1(img):\n",
    "    return (img[:,:,0]/3 + img[:,:,1]/3 + img[:,:,2]/3).astype(int)\n",
    "\n",
    "def direct_grayscale2(img):\n",
    "    return (img[:,:,0]*0.299 + img[:,:,1]*0.587 + img[:,:,2]*0.114).astype(int)"
   ]
  },
  {
   "cell_type": "code",
   "execution_count": null,
   "metadata": {},
   "outputs": [],
   "source": [
    "def convert_grayscale1(images):\n",
    "    images_grayscale = list()\n",
    "    for image in images:\n",
    "        images_grayscale.append(direct_grayscale1(image))\n",
    "    return images_grayscale\n",
    "\n",
    "def convert_grayscale2(images):\n",
    "    images_grayscale = list()\n",
    "    for image in images:\n",
    "        images_grayscale.append(direct_grayscale2(image))\n",
    "    return images_grayscale"
   ]
  },
  {
   "cell_type": "markdown",
   "metadata": {},
   "source": [
    "## Using opencv"
   ]
  },
  {
   "cell_type": "code",
   "execution_count": null,
   "metadata": {},
   "outputs": [],
   "source": [
    "images = read_images(read_image_cv2)"
   ]
  },
  {
   "cell_type": "code",
   "execution_count": null,
   "metadata": {},
   "outputs": [],
   "source": [
    "# Show original images\n",
    "show_images_2x2(images)"
   ]
  },
  {
   "cell_type": "code",
   "execution_count": null,
   "metadata": {},
   "outputs": [],
   "source": [
    "# Convert all images to grayscale\n",
    "\n",
    "images_grayscale1 = convert_grayscale1(images)\n",
    "images_grayscale2 = convert_grayscale2(images)"
   ]
  },
  {
   "cell_type": "code",
   "execution_count": null,
   "metadata": {},
   "outputs": [],
   "source": [
    "# Show all images, converted to grayscale\n",
    "\n",
    "show_images_4x2(images_grayscale1, images_grayscale2)"
   ]
  },
  {
   "cell_type": "code",
   "execution_count": null,
   "metadata": {},
   "outputs": [],
   "source": [
    "# Save all images\n",
    "\n",
    "write_images(images_grayscale1, write_image_cv2, n=1)\n",
    "write_images(images_grayscale2, write_image_cv2, n=2)"
   ]
  },
  {
   "cell_type": "markdown",
   "metadata": {},
   "source": [
    "## Using skimage"
   ]
  },
  {
   "cell_type": "code",
   "execution_count": null,
   "metadata": {},
   "outputs": [],
   "source": [
    "images = read_images(read_image_skimage)"
   ]
  },
  {
   "cell_type": "code",
   "execution_count": null,
   "metadata": {},
   "outputs": [],
   "source": [
    "# Show original images\n",
    "show_images_2x2(images)"
   ]
  },
  {
   "cell_type": "code",
   "execution_count": null,
   "metadata": {},
   "outputs": [],
   "source": [
    "# Convert all images to grayscale\n",
    "\n",
    "images_grayscale1 = convert_grayscale1(images)\n",
    "images_grayscale2 = convert_grayscale2(images)"
   ]
  },
  {
   "cell_type": "code",
   "execution_count": null,
   "metadata": {},
   "outputs": [],
   "source": [
    "# Show all images, converted to grayscale\n",
    "\n",
    "show_images_4x2(images_grayscale1, images_grayscale2)"
   ]
  },
  {
   "cell_type": "code",
   "execution_count": null,
   "metadata": {},
   "outputs": [],
   "source": [
    "# Save all images\n",
    "\n",
    "write_images(images_grayscale1, write_image_skimage, n=1)\n",
    "write_images(images_grayscale2, write_image_skimage, n=2)"
   ]
  },
  {
   "cell_type": "markdown",
   "metadata": {},
   "source": [
    "## Using PIL"
   ]
  },
  {
   "cell_type": "code",
   "execution_count": null,
   "metadata": {},
   "outputs": [],
   "source": [
    "images = read_images(read_image_pil)"
   ]
  },
  {
   "cell_type": "code",
   "execution_count": null,
   "metadata": {},
   "outputs": [],
   "source": [
    "# Show original images\n",
    "show_images_2x2(images)"
   ]
  },
  {
   "cell_type": "code",
   "execution_count": null,
   "metadata": {},
   "outputs": [],
   "source": [
    "# Convert all images to grayscale\n",
    "\n",
    "images_grayscale1 = convert_grayscale1(images)\n",
    "images_grayscale2 = convert_grayscale2(images)"
   ]
  },
  {
   "cell_type": "code",
   "execution_count": null,
   "metadata": {},
   "outputs": [],
   "source": [
    "# Show all images, converted to grayscale\n",
    "\n",
    "show_images_4x2(images_grayscale1, images_grayscale2)"
   ]
  },
  {
   "cell_type": "code",
   "execution_count": null,
   "metadata": {},
   "outputs": [],
   "source": [
    "# Save all images\n",
    "\n",
    "write_images(images_grayscale1, write_image_pil, n=1)\n",
    "write_images(images_grayscale2, write_image_pil, n=2)"
   ]
  },
  {
   "cell_type": "markdown",
   "metadata": {},
   "source": [
    "## _Click picture from webcam_"
   ]
  },
  {
   "cell_type": "code",
   "execution_count": null,
   "metadata": {},
   "outputs": [],
   "source": [
    "cam = cv2.VideoCapture(0)\n",
    "ret, frame = cam.read()\n",
    "if not ret:\n",
    "    print(\"failed to grab frame\")\n",
    "else:\n",
    "    save_path = \"../images/opencv_frame_{}.png\".format(time.time())\n",
    "    cv2.imwrite(save_path, frame)\n",
    "    print(\"Saved image at {}\".format(save_path))\n",
    "\n",
    "    image = cv2.cvtColor(frame, cv2.COLOR_BGR2RGB)\n",
    "    plt.imshow(image)\n",
    "\n",
    "cam.release()"
   ]
  },
  {
   "cell_type": "code",
   "execution_count": null,
   "metadata": {},
   "outputs": [],
   "source": [
    "# My image to grayscale\n",
    "\n",
    "fig, axs = plt.subplots(1, 2)\n",
    "\n",
    "axs[0].imshow(direct_grayscale1(image), cmap='gray')\n",
    "axs[1].imshow(direct_grayscale2(image), cmap='gray')\n",
    "\n",
    "fig.set_figwidth(10)"
   ]
  },
  {
   "cell_type": "code",
   "execution_count": null,
   "metadata": {},
   "outputs": [],
   "source": []
  }
 ],
 "metadata": {
  "kernelspec": {
   "display_name": "Python 3",
   "language": "python",
   "name": "python3"
  },
  "language_info": {
   "codemirror_mode": {
    "name": "ipython",
    "version": 3
   },
   "file_extension": ".py",
   "mimetype": "text/x-python",
   "name": "python",
   "nbconvert_exporter": "python",
   "pygments_lexer": "ipython3",
   "version": "3.10.12"
  },
  "orig_nbformat": 4
 },
 "nbformat": 4,
 "nbformat_minor": 2
}
